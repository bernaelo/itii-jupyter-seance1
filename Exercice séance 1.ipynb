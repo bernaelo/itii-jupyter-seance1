{
 "cells": [
  {
   "cell_type": "code",
   "execution_count": null,
   "metadata": {},
   "outputs": [],
   "source": [
    "pip install Numpy"
   ]
  },
  {
   "cell_type": "code",
   "execution_count": 3,
   "metadata": {},
   "outputs": [
    {
     "name": "stdout",
     "output_type": "stream",
     "text": [
      "saisissez le rayon : 5\n",
      "saisissez la hauteur : 8\n",
      "volume :  209.43951023931953\n"
     ]
    }
   ],
   "source": [
    "import numpy as np\n",
    "\n",
    "rayon = input(\"saisissez le rayon : \")\n",
    "\n",
    "hauteur = input(\"saisissez la hauteur : \")\n",
    "\n",
    "volume = np.pi*int(rayon)**2*(int(hauteur)/3)\n",
    "\n",
    "print(\"volume : \",volume)\n"
   ]
  },
  {
   "cell_type": "code",
   "execution_count": 10,
   "metadata": {},
   "outputs": [
    {
     "name": "stdout",
     "output_type": "stream",
     "text": [
      "9\n"
     ]
    }
   ],
   "source": [
    "n = 3\n",
    "sum = 0\n",
    "\n",
    "for i in range(1,n):\n",
    "    sum+=i**3\n",
    "\n",
    "print(sum)"
   ]
  },
  {
   "cell_type": "code",
   "execution_count": 25,
   "metadata": {},
   "outputs": [
    {
     "name": "stdout",
     "output_type": "stream",
     "text": [
      "300\n"
     ]
    }
   ],
   "source": [
    "res=0\n",
    "for nb in range(1,1000):\n",
    "    res+=str(nb).count(\"1\")\n",
    "\n",
    "print(res)"
   ]
  },
  {
   "cell_type": "code",
   "execution_count": 4,
   "metadata": {},
   "outputs": [
    {
     "name": "stdout",
     "output_type": "stream",
     "text": [
      "3.1408084\n"
     ]
    }
   ],
   "source": [
    "import random\n",
    "\n",
    "n = 10000000\n",
    "p = 0\n",
    "\n",
    "for i in range(n+1):\n",
    "    x=random.uniform(0,1)\n",
    "    y=random.uniform(0,1)\n",
    "    if(x**2+y**2<1):\n",
    "        p+=1\n",
    "\n",
    "result=4*p/n\n",
    "print(result)"
   ]
  },
  {
   "cell_type": "code",
   "execution_count": null,
   "metadata": {},
   "outputs": [],
   "source": []
  }
 ],
 "metadata": {
  "kernelspec": {
   "display_name": "Python 3",
   "language": "python",
   "name": "python3"
  },
  "language_info": {
   "codemirror_mode": {
    "name": "ipython",
    "version": 3
   },
   "file_extension": ".py",
   "mimetype": "text/x-python",
   "name": "python",
   "nbconvert_exporter": "python",
   "pygments_lexer": "ipython3",
   "version": "3.7.6"
  }
 },
 "nbformat": 4,
 "nbformat_minor": 4
}
